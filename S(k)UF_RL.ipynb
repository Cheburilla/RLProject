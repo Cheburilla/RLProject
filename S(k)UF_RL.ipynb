{
  "nbformat": 4,
  "nbformat_minor": 0,
  "metadata": {
    "colab": {
      "provenance": []
    },
    "kernelspec": {
      "name": "python3",
      "display_name": "Python 3"
    },
    "language_info": {
      "name": "python"
    }
  },
  "cells": [
    {
      "cell_type": "code",
      "execution_count": null,
      "metadata": {
        "colab": {
          "base_uri": "https://localhost:8080/"
        },
        "id": "7_TojAZG9_LN",
        "outputId": "f1b7fb2a-a841-4d72-9374-6823e2386b72"
      },
      "outputs": [
        {
          "output_type": "stream",
          "name": "stdout",
          "text": [
            "Collecting gymnasium\n",
            "  Downloading gymnasium-0.29.1-py3-none-any.whl (953 kB)\n",
            "\u001b[2K     \u001b[90m━━━━━━━━━━━━━━━━━━━━━━━━━━━━━━━━━━━━━━━━\u001b[0m \u001b[32m953.9/953.9 kB\u001b[0m \u001b[31m5.5 MB/s\u001b[0m eta \u001b[36m0:00:00\u001b[0m\n",
            "\u001b[?25hRequirement already satisfied: numpy>=1.21.0 in /usr/local/lib/python3.10/dist-packages (from gymnasium) (1.25.2)\n",
            "Requirement already satisfied: cloudpickle>=1.2.0 in /usr/local/lib/python3.10/dist-packages (from gymnasium) (2.2.1)\n",
            "Requirement already satisfied: typing-extensions>=4.3.0 in /usr/local/lib/python3.10/dist-packages (from gymnasium) (4.11.0)\n",
            "Collecting farama-notifications>=0.0.1 (from gymnasium)\n",
            "  Downloading Farama_Notifications-0.0.4-py3-none-any.whl (2.5 kB)\n",
            "Installing collected packages: farama-notifications, gymnasium\n",
            "Successfully installed farama-notifications-0.0.4 gymnasium-0.29.1\n"
          ]
        }
      ],
      "source": [
        "!pip install gymnasium"
      ]
    },
    {
      "cell_type": "code",
      "source": [
        "!pip install gymnasium[atari]"
      ],
      "metadata": {
        "colab": {
          "base_uri": "https://localhost:8080/"
        },
        "id": "oIJhjOHVAZg1",
        "outputId": "bc06e5b4-b74d-4ddc-d1f5-b8595f912175"
      },
      "execution_count": null,
      "outputs": [
        {
          "output_type": "stream",
          "name": "stdout",
          "text": [
            "Requirement already satisfied: gymnasium[atari] in /usr/local/lib/python3.10/dist-packages (0.29.1)\n",
            "Requirement already satisfied: numpy>=1.21.0 in /usr/local/lib/python3.10/dist-packages (from gymnasium[atari]) (1.25.2)\n",
            "Requirement already satisfied: cloudpickle>=1.2.0 in /usr/local/lib/python3.10/dist-packages (from gymnasium[atari]) (2.2.1)\n",
            "Requirement already satisfied: typing-extensions>=4.3.0 in /usr/local/lib/python3.10/dist-packages (from gymnasium[atari]) (4.11.0)\n",
            "Requirement already satisfied: farama-notifications>=0.0.1 in /usr/local/lib/python3.10/dist-packages (from gymnasium[atari]) (0.0.4)\n",
            "Collecting shimmy[atari]<1.0,>=0.1.0 (from gymnasium[atari])\n",
            "  Downloading Shimmy-0.2.1-py3-none-any.whl (25 kB)\n",
            "Collecting ale-py~=0.8.1 (from shimmy[atari]<1.0,>=0.1.0->gymnasium[atari])\n",
            "  Downloading ale_py-0.8.1-cp310-cp310-manylinux_2_17_x86_64.manylinux2014_x86_64.whl (1.7 MB)\n",
            "\u001b[2K     \u001b[90m━━━━━━━━━━━━━━━━━━━━━━━━━━━━━━━━━━━━━━━━\u001b[0m \u001b[32m1.7/1.7 MB\u001b[0m \u001b[31m11.2 MB/s\u001b[0m eta \u001b[36m0:00:00\u001b[0m\n",
            "\u001b[?25hRequirement already satisfied: importlib-resources in /usr/local/lib/python3.10/dist-packages (from ale-py~=0.8.1->shimmy[atari]<1.0,>=0.1.0->gymnasium[atari]) (6.4.0)\n",
            "Installing collected packages: ale-py, shimmy\n",
            "Successfully installed ale-py-0.8.1 shimmy-0.2.1\n"
          ]
        }
      ]
    },
    {
      "cell_type": "code",
      "source": [
        "!pip install gymnasium[accept-rom-license]"
      ],
      "metadata": {
        "colab": {
          "base_uri": "https://localhost:8080/"
        },
        "id": "8YpQ67_BC0ZY",
        "outputId": "08e5affb-8002-4909-ea4b-15065d5f48a7"
      },
      "execution_count": null,
      "outputs": [
        {
          "output_type": "stream",
          "name": "stdout",
          "text": [
            "Requirement already satisfied: gymnasium[accept-rom-license] in /usr/local/lib/python3.10/dist-packages (0.29.1)\n",
            "Requirement already satisfied: numpy>=1.21.0 in /usr/local/lib/python3.10/dist-packages (from gymnasium[accept-rom-license]) (1.25.2)\n",
            "Requirement already satisfied: cloudpickle>=1.2.0 in /usr/local/lib/python3.10/dist-packages (from gymnasium[accept-rom-license]) (2.2.1)\n",
            "Requirement already satisfied: typing-extensions>=4.3.0 in /usr/local/lib/python3.10/dist-packages (from gymnasium[accept-rom-license]) (4.11.0)\n",
            "Requirement already satisfied: farama-notifications>=0.0.1 in /usr/local/lib/python3.10/dist-packages (from gymnasium[accept-rom-license]) (0.0.4)\n",
            "Collecting autorom[accept-rom-license]~=0.4.2 (from gymnasium[accept-rom-license])\n",
            "  Downloading AutoROM-0.4.2-py3-none-any.whl (16 kB)\n",
            "Requirement already satisfied: click in /usr/local/lib/python3.10/dist-packages (from autorom[accept-rom-license]~=0.4.2->gymnasium[accept-rom-license]) (8.1.7)\n",
            "Requirement already satisfied: requests in /usr/local/lib/python3.10/dist-packages (from autorom[accept-rom-license]~=0.4.2->gymnasium[accept-rom-license]) (2.31.0)\n",
            "Requirement already satisfied: tqdm in /usr/local/lib/python3.10/dist-packages (from autorom[accept-rom-license]~=0.4.2->gymnasium[accept-rom-license]) (4.66.2)\n",
            "Collecting AutoROM.accept-rom-license (from autorom[accept-rom-license]~=0.4.2->gymnasium[accept-rom-license])\n",
            "  Downloading AutoROM.accept-rom-license-0.6.1.tar.gz (434 kB)\n",
            "\u001b[2K     \u001b[90m━━━━━━━━━━━━━━━━━━━━━━━━━━━━━━━━━━━━━━━━\u001b[0m \u001b[32m434.7/434.7 kB\u001b[0m \u001b[31m5.2 MB/s\u001b[0m eta \u001b[36m0:00:00\u001b[0m\n",
            "\u001b[?25h  Installing build dependencies ... \u001b[?25l\u001b[?25hdone\n",
            "  Getting requirements to build wheel ... \u001b[?25l\u001b[?25hdone\n",
            "  Preparing metadata (pyproject.toml) ... \u001b[?25l\u001b[?25hdone\n",
            "Requirement already satisfied: charset-normalizer<4,>=2 in /usr/local/lib/python3.10/dist-packages (from requests->autorom[accept-rom-license]~=0.4.2->gymnasium[accept-rom-license]) (3.3.2)\n",
            "Requirement already satisfied: idna<4,>=2.5 in /usr/local/lib/python3.10/dist-packages (from requests->autorom[accept-rom-license]~=0.4.2->gymnasium[accept-rom-license]) (3.7)\n",
            "Requirement already satisfied: urllib3<3,>=1.21.1 in /usr/local/lib/python3.10/dist-packages (from requests->autorom[accept-rom-license]~=0.4.2->gymnasium[accept-rom-license]) (2.0.7)\n",
            "Requirement already satisfied: certifi>=2017.4.17 in /usr/local/lib/python3.10/dist-packages (from requests->autorom[accept-rom-license]~=0.4.2->gymnasium[accept-rom-license]) (2024.2.2)\n",
            "Building wheels for collected packages: AutoROM.accept-rom-license\n",
            "  Building wheel for AutoROM.accept-rom-license (pyproject.toml) ... \u001b[?25l\u001b[?25hdone\n",
            "  Created wheel for AutoROM.accept-rom-license: filename=AutoROM.accept_rom_license-0.6.1-py3-none-any.whl size=446659 sha256=5526797dc6e7b405c2a02715348cc4b92ff13966ddc3ccd2b17990a9523cdf93\n",
            "  Stored in directory: /root/.cache/pip/wheels/6b/1b/ef/a43ff1a2f1736d5711faa1ba4c1f61be1131b8899e6a057811\n",
            "Successfully built AutoROM.accept-rom-license\n",
            "Installing collected packages: AutoROM.accept-rom-license, autorom\n",
            "Successfully installed AutoROM.accept-rom-license-0.6.1 autorom-0.4.2\n"
          ]
        }
      ]
    },
    {
      "cell_type": "code",
      "source": [
        "import gymnasium\n",
        "import torch\n",
        "import numpy as np\n",
        "from torch.autograd import Variable"
      ],
      "metadata": {
        "id": "esIVRf3X-Kp_"
      },
      "execution_count": null,
      "outputs": []
    },
    {
      "cell_type": "code",
      "source": [
        "!pip install --upgrade gym ale-py"
      ],
      "metadata": {
        "colab": {
          "base_uri": "https://localhost:8080/",
          "height": 644
        },
        "id": "sTRYii4_FbXA",
        "outputId": "a46ecf2f-4263-4727-8f3b-02ab4e632fd8"
      },
      "execution_count": null,
      "outputs": [
        {
          "output_type": "stream",
          "name": "stderr",
          "text": [
            "/usr/local/lib/python3.10/dist-packages/ipykernel/ipkernel.py:283: DeprecationWarning: `should_run_async` will not call `transform_cell` automatically in the future. Please pass the result to `transformed_cell` argument and any exception that happen during thetransform in `preprocessing_exc_tuple` in IPython 7.17 and above.\n",
            "  and should_run_async(code)\n"
          ]
        },
        {
          "output_type": "stream",
          "name": "stdout",
          "text": [
            "Requirement already satisfied: gym in /usr/local/lib/python3.10/dist-packages (0.25.2)\n",
            "Collecting gym\n",
            "  Downloading gym-0.26.2.tar.gz (721 kB)\n",
            "\u001b[2K     \u001b[90m━━━━━━━━━━━━━━━━━━━━━━━━━━━━━━━━━━━━━━━━\u001b[0m \u001b[32m721.7/721.7 kB\u001b[0m \u001b[31m7.1 MB/s\u001b[0m eta \u001b[36m0:00:00\u001b[0m\n",
            "\u001b[?25h  Installing build dependencies ... \u001b[?25l\u001b[?25hdone\n",
            "  Getting requirements to build wheel ... \u001b[?25l\u001b[?25hdone\n",
            "  Preparing metadata (pyproject.toml) ... \u001b[?25l\u001b[?25hdone\n",
            "Requirement already satisfied: ale-py in /usr/local/lib/python3.10/dist-packages (0.8.1)\n",
            "Requirement already satisfied: numpy>=1.18.0 in /usr/local/lib/python3.10/dist-packages (from gym) (1.25.2)\n",
            "Requirement already satisfied: cloudpickle>=1.2.0 in /usr/local/lib/python3.10/dist-packages (from gym) (2.2.1)\n",
            "Requirement already satisfied: gym-notices>=0.0.4 in /usr/local/lib/python3.10/dist-packages (from gym) (0.0.8)\n",
            "Requirement already satisfied: importlib-resources in /usr/local/lib/python3.10/dist-packages (from ale-py) (6.4.0)\n",
            "Requirement already satisfied: typing-extensions in /usr/local/lib/python3.10/dist-packages (from ale-py) (4.11.0)\n",
            "Building wheels for collected packages: gym\n",
            "  Building wheel for gym (pyproject.toml) ... \u001b[?25l\u001b[?25hdone\n",
            "  Created wheel for gym: filename=gym-0.26.2-py3-none-any.whl size=827618 sha256=c95f76fe27ed5149daccf69c3aee2a79e03b728e07cde1451d0a323260242301\n",
            "  Stored in directory: /root/.cache/pip/wheels/b9/22/6d/3e7b32d98451b4cd9d12417052affbeeeea012955d437da1da\n",
            "Successfully built gym\n",
            "Installing collected packages: gym\n",
            "  Attempting uninstall: gym\n",
            "    Found existing installation: gym 0.25.2\n",
            "    Uninstalling gym-0.25.2:\n",
            "      Successfully uninstalled gym-0.25.2\n",
            "\u001b[31mERROR: pip's dependency resolver does not currently take into account all the packages that are installed. This behaviour is the source of the following dependency conflicts.\n",
            "dopamine-rl 4.0.6 requires gym<=0.25.2, but you have gym 0.26.2 which is incompatible.\u001b[0m\u001b[31m\n",
            "\u001b[0mSuccessfully installed gym-0.26.2\n"
          ]
        },
        {
          "output_type": "display_data",
          "data": {
            "application/vnd.colab-display-data+json": {
              "pip_warning": {
                "packages": [
                  "gym"
                ]
              },
              "id": "302198bbe6d5493684c2f06fb307bbe9"
            }
          },
          "metadata": {}
        }
      ]
    },
    {
      "cell_type": "code",
      "source": [
        "env = gymnasium.make(\"ALE/Tetris-ram-v5\")"
      ],
      "metadata": {
        "id": "lpndbwwmAJIn"
      },
      "execution_count": null,
      "outputs": []
    },
    {
      "cell_type": "code",
      "source": [
        "env.observation_space.shape[0]"
      ],
      "metadata": {
        "colab": {
          "base_uri": "https://localhost:8080/"
        },
        "id": "v6nMaA2z_NRI",
        "outputId": "cb0dd7b1-867b-41b0-f7c2-e9eb32ee76a1"
      },
      "execution_count": null,
      "outputs": [
        {
          "output_type": "execute_result",
          "data": {
            "text/plain": [
              "128"
            ]
          },
          "metadata": {},
          "execution_count": 20
        }
      ]
    },
    {
      "cell_type": "code",
      "source": [
        "def gen_epsilon_greedy_policy(estimator, epsilon, n_action):\n",
        "    def policy_function(state):\n",
        "            probs = torch.ones(n_action) * epsilon / n_action\n",
        "            q_values = estimator.predict(state)\n",
        "            best_action = torch.argmax(q_values).item()\n",
        "            probs[best_action] += 1.0 - epsilon\n",
        "            action = torch.multinomial(probs, 1).item()\n",
        "            return action\n",
        "    return policy_function"
      ],
      "metadata": {
        "id": "y1YmQ9V4IuFd"
      },
      "execution_count": null,
      "outputs": []
    },
    {
      "cell_type": "code",
      "source": [
        "class LR_Estimate():\n",
        "    def __init__(self, n_feat, n_state, n_action, lr=0.05):#n_state - размерность состояний теперь\n",
        "        self.w, self.b = self.get_gaussian_wb(n_feat,n_state)\n",
        "        self.n_feat = n_feat\n",
        "        self.models = []\n",
        "        self.optimizers = []\n",
        "        self.criterion = torch.nn.MSELoss()\n",
        "        for _ in range(n_action):\n",
        "            model = torch.nn.Linear(n_feat,1)\n",
        "            self.models.append(model)\n",
        "            optimizer = torch.optim.SGD(model.parameters(), lr)\n",
        "            self.optimizers.append(optimizer)\n",
        "\n",
        "    def get_gaussian_wb(self, n_feat, n_state, sigma=.2):\n",
        "        torch.manual_seed(0)\n",
        "        w = torch.randn((n_state,n_feat))/sigma\n",
        "        b = torch.rand((n_feat))* 2.0 * np.pi\n",
        "        return w, b\n",
        "\n",
        "    def get_feature(self, s):\n",
        "        features = (2.0 / self.n_feat) ** 0.5 * torch.cos(torch.matmul(torch.Tensor(s).float(), self.w) + self.b)\n",
        "\n",
        "        return features\n",
        "\n",
        "    def update(self, s, a, y):\n",
        "        features = Variable(self.get_feature(s))\n",
        "        y_pred = self.models[a](features)\n",
        "\n",
        "        loss = self.criterion(y_pred, Variable(torch.Tensor([y])))\n",
        "\n",
        "        self.optimizers[a].zero_grad()\n",
        "        loss.backward()\n",
        "        self.optimizers[a].step()\n",
        "\n",
        "    def predict(self,s):\n",
        "        features = self.get_feature(s)\n",
        "        # print(features)\n",
        "        with torch.no_grad():\n",
        "            m = [model(features) for model in self.models]\n",
        "            b = torch.Tensor(len(m), len(m[0]))\n",
        "\n",
        "            torch.cat(m, out=b)\n",
        "            return b"
      ],
      "metadata": {
        "id": "HSj3M_DMJbyI"
      },
      "execution_count": null,
      "outputs": []
    },
    {
      "cell_type": "code",
      "source": [
        "estimator = LR_Estimate(10, env.observation_space.shape[0], env.action_space.n)\n",
        "policy = gen_epsilon_greedy_policy(estimator, 0.1, env.action_space.n)"
      ],
      "metadata": {
        "id": "x0oQsIyHK3Or"
      },
      "execution_count": null,
      "outputs": []
    },
    {
      "cell_type": "code",
      "source": [
        "rewards = np.zeros(30)\n",
        "for traj_num in range(30):\n",
        "    state = env.reset()[0]\n",
        "    is_done = False\n",
        "    while not is_done:\n",
        "      action = policy(state)\n",
        "      new_state, reward, is_done, __,  info = env.step(action)\n",
        "      state = new_state\n",
        "      rewards[traj_num] += reward\n",
        "      rewards[traj_num] += 0.01"
      ],
      "metadata": {
        "colab": {
          "base_uri": "https://localhost:8080/"
        },
        "id": "WPUmo_0RKZv_",
        "outputId": "2108ea47-7ead-4ba9-ff00-e6c67fb3b1e5"
      },
      "execution_count": null,
      "outputs": [
        {
          "output_type": "stream",
          "name": "stderr",
          "text": [
            "<ipython-input-22-e22f447b083a>:42: UserWarning: An output with one or more elements was resized since it had shape [5, 1], which does not match the required output shape [5]. This behavior is deprecated, and in a future PyTorch release outputs will not be resized unless they have zero elements. You can explicitly reuse an out tensor t by resizing it, inplace, to zero elements with t.resize_(0). (Triggered internally at ../aten/src/ATen/native/Resize.cpp:28.)\n",
            "  torch.cat(m, out=b)\n"
          ]
        }
      ]
    },
    {
      "cell_type": "code",
      "source": [
        "rewards"
      ],
      "metadata": {
        "colab": {
          "base_uri": "https://localhost:8080/"
        },
        "id": "bdnh4guGLAAv",
        "outputId": "221161e7-6c92-46c8-e9fd-fb882f50574c"
      },
      "execution_count": null,
      "outputs": [
        {
          "output_type": "execute_result",
          "data": {
            "text/plain": [
              "array([5.05, 3.97, 4.88, 3.89, 4.61, 4.01, 3.85, 3.79, 3.73, 4.13, 4.13,\n",
              "       4.33, 5.05, 3.85, 3.85, 3.53, 3.89, 6.17, 3.89, 4.73, 4.33, 4.41,\n",
              "       4.01, 3.89, 4.13, 3.87, 3.93, 5.77, 4.01, 4.49])"
            ]
          },
          "metadata": {},
          "execution_count": 39
        }
      ]
    },
    {
      "cell_type": "code",
      "source": [
        "mean_reward = sum(rewards) / len(rewards)"
      ],
      "metadata": {
        "id": "GjQVEB47Pnjg"
      },
      "execution_count": null,
      "outputs": []
    },
    {
      "cell_type": "code",
      "source": [
        "mean_reward"
      ],
      "metadata": {
        "colab": {
          "base_uri": "https://localhost:8080/"
        },
        "id": "-Uyt9KMbPucw",
        "outputId": "5f690f0f-70a0-474f-dd42-8541777c62f6"
      },
      "execution_count": null,
      "outputs": [
        {
          "output_type": "execute_result",
          "data": {
            "text/plain": [
              "4.272333333333287"
            ]
          },
          "metadata": {},
          "execution_count": 42
        }
      ]
    },
    {
      "cell_type": "code",
      "source": [
        "from scipy import stats"
      ],
      "metadata": {
        "id": "MP3XgQUGXCQ3"
      },
      "execution_count": null,
      "outputs": []
    },
    {
      "cell_type": "code",
      "source": [
        "interval = stats.norm.interval(0.95, loc=mean_reward, scale=stats.tstd(rewards, axis=0))\n",
        "print(interval)"
      ],
      "metadata": {
        "colab": {
          "base_uri": "https://localhost:8080/"
        },
        "id": "nqcoiYczP09U",
        "outputId": "f3dea3d5-45d8-4e20-f9d1-9bd78ef23f15"
      },
      "execution_count": null,
      "outputs": [
        {
          "output_type": "stream",
          "name": "stdout",
          "text": [
            "(3.0843223594152898, 5.460344307251284)\n"
          ]
        }
      ]
    },
    {
      "cell_type": "code",
      "source": [
        "def q_learning(env, estimator, n_episode, epsilon, n_action, gamma=1.0, epsilon_decay=0.99):\n",
        "    for episode in range(n_episode):\n",
        "        policy = gen_epsilon_greedy_policy(estimator, epsilon * epsilon_decay ** episode, n_action)\n",
        "        state = env.reset()[0]\n",
        "        is_done = False\n",
        "        while not is_done:\n",
        "            action = policy(state)\n",
        "            new_state, reward, is_done, __,  info = env.step(action)\n",
        "            q_values_next = estimator.predict(new_state)\n",
        "            if reward == 0:\n",
        "              reward = 0.01\n",
        "            else:\n",
        "              reward = 100\n",
        "            td_target = reward + gamma * torch.max(q_values_next)\n",
        "            estimator.update(state, action, td_target)\n",
        "            total_reward_episode[episode] += reward\n",
        "        state = new_state"
      ],
      "metadata": {
        "id": "QxpkvdFZQHen"
      },
      "execution_count": null,
      "outputs": []
    },
    {
      "cell_type": "code",
      "source": [
        "n_state = env.observation_space.shape[0]\n",
        "n_action = env.action_space.n\n",
        "n_feature = 100\n",
        "lr = 0.03\n",
        "estimator = LR_Estimate(n_feature, n_state, n_action, lr)\n",
        "\n",
        "n_episode = 500\n",
        "total_reward_episode = [0] * n_episode\n",
        "q_learning(env, estimator, n_episode, 0.1, n_action)"
      ],
      "metadata": {
        "colab": {
          "base_uri": "https://localhost:8080/"
        },
        "id": "_hBBscsTQJsj",
        "outputId": "7ecee3fb-3c96-4e90-f1e3-b4b1265f503c"
      },
      "execution_count": null,
      "outputs": [
        {
          "output_type": "stream",
          "name": "stderr",
          "text": [
            "<ipython-input-22-e22f447b083a>:42: UserWarning: An output with one or more elements was resized since it had shape [5, 1], which does not match the required output shape [5]. This behavior is deprecated, and in a future PyTorch release outputs will not be resized unless they have zero elements. You can explicitly reuse an out tensor t by resizing it, inplace, to zero elements with t.resize_(0). (Triggered internally at ../aten/src/ATen/native/Resize.cpp:28.)\n",
            "  torch.cat(m, out=b)\n"
          ]
        }
      ]
    },
    {
      "cell_type": "code",
      "source": [
        "import matplotlib.pyplot as plt"
      ],
      "metadata": {
        "id": "EvPPzXVER5rb"
      },
      "execution_count": null,
      "outputs": []
    },
    {
      "cell_type": "code",
      "source": [
        "plt.plot(total_reward_episode, 'b.')\n",
        "plt.title('Зависимость вознаграждения в эпизоде от времени')\n",
        "plt.xlabel('Эпизод')\n",
        "plt.ylabel('Полное вознаграждение')\n",
        "plt.show()"
      ],
      "metadata": {
        "colab": {
          "base_uri": "https://localhost:8080/"
        },
        "id": "u2DhYcATR3c9",
        "outputId": "e5462948-5bbd-410c-95d8-3de5cf2dd5e7"
      },
      "execution_count": null,
      "outputs": [
        {
          "output_type": "display_data",
          "data": {
            "text/plain": [
              "<Figure size 640x480 with 1 Axes>"
            ],
            "image/png": "[encoded data removed]"
          },
          "metadata": {}
        }
      ]
    },
    {
      "cell_type": "code",
      "source": [
        "import torch.nn as nn\n",
        "import torch.nn.functional as F\n",
        "import torch"
      ],
      "metadata": {
        "colab": {
          "base_uri": "https://localhost:8080/"
        },
        "id": "nO7uJs4gXHNP",
        "outputId": "076b5b7c-e4b9-46fb-9198-8318a659f76d"
      },
      "execution_count": null,
      "outputs": [
        {
          "output_type": "stream",
          "name": "stderr",
          "text": [
            "/usr/local/lib/python3.10/dist-packages/ipykernel/ipkernel.py:283: DeprecationWarning: `should_run_async` will not call `transform_cell` automatically in the future. Please pass the result to `transformed_cell` argument and any exception that happen during thetransform in `preprocessing_exc_tuple` in IPython 7.17 and above.\n",
            "  and should_run_async(code)\n"
          ]
        }
      ]
    },
    {
      "cell_type": "code",
      "source": [
        "class ActorCriticModel(nn.Module):\n",
        "    def __init__(self, n_input, n_output, n_hidden):\n",
        "        super(ActorCriticModel, self).__init__()\n",
        "        self.fc = nn.Linear(n_input, n_hidden)\n",
        "        self.action = nn.Linear(n_hidden, n_output)\n",
        "        self.value = nn.Linear(n_hidden, 1)\n",
        "\n",
        "    def forward(self, x):\n",
        "        x = torch.Tensor(x)\n",
        "        x = F.mish(self.fc(x))\n",
        "        action_probs = F.softmax(self.action(x), dim=-1)\n",
        "        state_value = self.value(x)\n",
        "        return action_probs, state_value"
      ],
      "metadata": {
        "id": "kUJpEI4eVl58"
      },
      "execution_count": null,
      "outputs": []
    },
    {
      "cell_type": "code",
      "source": [
        "class PolicyNetwork():\n",
        "    def __init__(self, n_state, n_action, n_hidden=50, lr=0.001):\n",
        "        self.model = ActorCriticModel(n_state, n_action, n_hidden)\n",
        "        self.optimizer = torch.optim.Adam(self.model.parameters(), lr)\n",
        "        self.scheduler = torch.optim.lr_scheduler.StepLR(self.optimizer, step_size=10, gamma=0.9)\n",
        "\n",
        "    def predict(self, s):\n",
        "        return self.model(torch.tensor(s))\n",
        "\n",
        "    def update(self, returns, log_probs, state_values):\n",
        "        loss = 0\n",
        "        for log_prob, value, Gt in zip(log_probs, state_values, returns):\n",
        "            advantage = Gt - value.item()\n",
        "            policy_loss = -log_prob * advantage\n",
        "            value_loss = F.smooth_l1_loss(value, Gt)\n",
        "            loss += policy_loss + value_loss\n",
        "\n",
        "        self.optimizer.zero_grad()\n",
        "        loss.backward()\n",
        "        self.optimizer.step()\n",
        "\n",
        "    def get_action(self, s):\n",
        "        ac_probs, state_value = self.predict(s)\n",
        "        action = torch.multinomial(ac_probs, 1).item()\n",
        "        log_prob = torch.log(ac_probs[action])\n",
        "        return action, log_prob, state_value"
      ],
      "metadata": {
        "id": "OCcv46AQVn_D"
      },
      "execution_count": null,
      "outputs": []
    },
    {
      "cell_type": "code",
      "source": [
        "def actor_critic(env, estimator, n_episode, gamma=1.0):\n",
        "    for episode in range(n_episode):\n",
        "        log_probs = []\n",
        "        rewards = []\n",
        "        state_values = []\n",
        "\n",
        "        state = env.reset()[0]\n",
        "        while True:\n",
        "            action, log_prob, state_value = estimator.get_action(state.astype(np.float32))\n",
        "            next_state, reward, is_done, truncated,  info = env.step(action)\n",
        "            reward += 0.01\n",
        "            total_reward_episode[episode] += reward\n",
        "\n",
        "            log_probs.append(log_prob)\n",
        "            rewards.append(reward)\n",
        "            state_values.append(state_value)\n",
        "\n",
        "            if is_done or truncated:\n",
        "                returns = []\n",
        "                Gt = 0\n",
        "                pw = 0\n",
        "                for reward in rewards[::-1]:\n",
        "                    Gt += gamma ** pw * reward\n",
        "                    pw += 1\n",
        "                    returns.append(Gt)\n",
        "\n",
        "                returns = returns[::-1]\n",
        "                returns = torch.Tensor(returns)\n",
        "\n",
        "                returns = (returns - torch.mean(returns)) / (torch.std(returns) + 1e-9)\n",
        "\n",
        "                estimator.update(returns, log_probs, state_values)\n",
        "\n",
        "                if total_reward_episode[episode] >= 195:\n",
        "                    estimator.schedufler.step()\n",
        "\n",
        "                print(f'Episode: {episode}, total reward: {total_reward_episode[episode]}')\n",
        "                break\n",
        "\n",
        "            state = next_state"
      ],
      "metadata": {
        "colab": {
          "base_uri": "https://localhost:8080/"
        },
        "id": "dyHOaB-SVpnZ",
        "outputId": "9b5280fe-78b8-4fc0-ae27-094c3ed140c0"
      },
      "execution_count": null,
      "outputs": [
        {
          "output_type": "stream",
          "name": "stderr",
          "text": [
            "/usr/local/lib/python3.10/dist-packages/ipykernel/ipkernel.py:283: DeprecationWarning: `should_run_async` will not call `transform_cell` automatically in the future. Please pass the result to `transformed_cell` argument and any exception that happen during thetransform in `preprocessing_exc_tuple` in IPython 7.17 and above.\n",
            "  and should_run_async(code)\n"
          ]
        }
      ]
    },
    {
      "cell_type": "code",
      "source": [
        "n_state = env.observation_space.shape[0]\n",
        "n_action = env.action_space.n\n",
        "n_hidden = 256\n",
        "lr = 0.03\n",
        "policy_net = PolicyNetwork(n_state, n_action, n_hidden, lr)\n",
        "\n",
        "n_episode = 800\n",
        "gamma = 0.9\n",
        "total_reward_episode = [0] * n_episode"
      ],
      "metadata": {
        "id": "5sk2LfIXVrSQ"
      },
      "execution_count": null,
      "outputs": []
    },
    {
      "cell_type": "code",
      "source": [
        "actor_critic(env, policy_net, n_episode, gamma)"
      ],
      "metadata": {
        "colab": {
          "base_uri": "https://localhost:8080/"
        },
        "id": "zHl0If-kXXq8",
        "outputId": "ee4af3af-ea88-436c-95db-7ee320651933"
      },
      "execution_count": null,
      "outputs": [
        {
          "output_type": "stream",
          "name": "stderr",
          "text": [
            "<ipython-input-14-764a8b304f84>:15: UserWarning: Using a target size (torch.Size([])) that is different to the input size (torch.Size([1])). This will likely lead to incorrect results due to broadcasting. Please ensure they have the same size.\n",
            "  value_loss = F.smooth_l1_loss(value, Gt)\n"
          ]
        },
        {
          "output_type": "stream",
          "name": "stdout",
          "text": [
            "Episode: 0, total reward: 7.209999999999891\n",
            "Episode: 1, total reward: 11.96999999999979\n",
            "Episode: 2, total reward: 5.929999999999918\n",
            "Episode: 3, total reward: 10.769999999999815\n",
            "Episode: 4, total reward: 10.52999999999982\n",
            "Episode: 5, total reward: 9.60999999999984\n",
            "Episode: 6, total reward: 10.289999999999825\n",
            "Episode: 7, total reward: 8.60999999999986\n",
            "Episode: 8, total reward: 12.169999999999785\n",
            "Episode: 9, total reward: 7.489999999999885\n",
            "Episode: 10, total reward: 10.169999999999828\n",
            "Episode: 11, total reward: 11.769999999999794\n",
            "Episode: 12, total reward: 10.209999999999827\n",
            "Episode: 13, total reward: 6.009999999999916\n",
            "Episode: 14, total reward: 10.729999999999816\n",
            "Episode: 15, total reward: 8.059999999999873\n",
            "Episode: 16, total reward: 9.969999999999832\n",
            "Episode: 17, total reward: 8.16999999999987\n",
            "Episode: 18, total reward: 8.809999999999857\n",
            "Episode: 19, total reward: 8.129999999999871\n",
            "Episode: 20, total reward: 10.52999999999982\n",
            "Episode: 21, total reward: 10.729999999999816\n",
            "Episode: 22, total reward: 9.809999999999835\n",
            "Episode: 23, total reward: 8.329999999999867\n",
            "Episode: 24, total reward: 10.449999999999822\n",
            "Episode: 25, total reward: 13.449999999999758\n",
            "Episode: 26, total reward: 10.129999999999828\n",
            "Episode: 27, total reward: 11.369999999999802\n",
            "Episode: 28, total reward: 11.689999999999795\n",
            "Episode: 29, total reward: 11.4499999999998\n",
            "Episode: 30, total reward: 8.20999999999987\n",
            "Episode: 31, total reward: 10.08999999999983\n",
            "Episode: 32, total reward: 9.249999999999847\n",
            "Episode: 33, total reward: 7.649999999999881\n",
            "Episode: 34, total reward: 6.8899999999998975\n",
            "Episode: 35, total reward: 10.329999999999824\n",
            "Episode: 36, total reward: 7.72999999999988\n",
            "Episode: 37, total reward: 9.809999999999835\n",
            "Episode: 38, total reward: 12.809999999999771\n",
            "Episode: 39, total reward: 11.689999999999795\n",
            "Episode: 40, total reward: 10.04999999999983\n",
            "Episode: 41, total reward: 10.08999999999983\n",
            "Episode: 42, total reward: 8.889999999999855\n",
            "Episode: 43, total reward: 8.049999999999873\n",
            "Episode: 44, total reward: 15.24999999999974\n",
            "Episode: 45, total reward: 10.249999999999826\n",
            "Episode: 46, total reward: 12.209999999999784\n",
            "Episode: 47, total reward: 5.809999999999921\n",
            "Episode: 48, total reward: 11.289999999999804\n",
            "Episode: 49, total reward: 10.689999999999817\n",
            "Episode: 50, total reward: 11.249999999999805\n",
            "Episode: 51, total reward: 6.489999999999906\n",
            "Episode: 52, total reward: 9.199999999999848\n",
            "Episode: 53, total reward: 10.96999999999981\n",
            "Episode: 54, total reward: 6.7699999999999\n",
            "Episode: 55, total reward: 10.889999999999812\n",
            "Episode: 56, total reward: 8.929999999999854\n",
            "Episode: 57, total reward: 12.049999999999788\n",
            "Episode: 58, total reward: 6.569999999999904\n",
            "Episode: 59, total reward: 8.60999999999986\n",
            "Episode: 60, total reward: 6.0499999999999154\n",
            "Episode: 61, total reward: 8.329999999999867\n",
            "Episode: 62, total reward: 10.689999999999817\n",
            "Episode: 63, total reward: 9.649999999999839\n",
            "Episode: 64, total reward: 9.729999999999837\n",
            "Episode: 65, total reward: 9.689999999999838\n",
            "Episode: 66, total reward: 8.60999999999986\n",
            "Episode: 67, total reward: 10.369999999999823\n",
            "Episode: 68, total reward: 8.409999999999865\n",
            "Episode: 69, total reward: 9.809999999999835\n",
            "Episode: 70, total reward: 11.369999999999802\n",
            "Episode: 71, total reward: 11.4899999999998\n",
            "Episode: 72, total reward: 11.049999999999809\n",
            "Episode: 73, total reward: 9.56999999999984\n",
            "Episode: 74, total reward: 7.529999999999884\n",
            "Episode: 75, total reward: 11.209999999999805\n",
            "Episode: 76, total reward: 8.64999999999986\n",
            "Episode: 77, total reward: 11.409999999999801\n",
            "Episode: 78, total reward: 11.209999999999805\n",
            "Episode: 79, total reward: 11.409999999999801\n",
            "Episode: 80, total reward: 11.369999999999802\n",
            "Episode: 81, total reward: 9.969999999999832\n",
            "Episode: 82, total reward: 12.769999999999772\n",
            "Episode: 83, total reward: 11.689999999999795\n",
            "Episode: 84, total reward: 9.369999999999845\n",
            "Episode: 85, total reward: 8.529999999999863\n",
            "Episode: 86, total reward: 10.08999999999983\n",
            "Episode: 87, total reward: 11.689999999999795\n",
            "Episode: 88, total reward: 12.36999999999978\n",
            "Episode: 89, total reward: 10.649999999999817\n",
            "Episode: 90, total reward: 5.329999999999931\n",
            "Episode: 91, total reward: 9.649999999999839\n",
            "Episode: 92, total reward: 8.049999999999873\n",
            "Episode: 93, total reward: 11.129999999999807\n",
            "Episode: 94, total reward: 7.449999999999886\n",
            "Episode: 95, total reward: 8.849999999999856\n",
            "Episode: 96, total reward: 11.209999999999805\n",
            "Episode: 97, total reward: 10.929999999999811\n",
            "Episode: 98, total reward: 12.969999999999768\n",
            "Episode: 99, total reward: 6.409999999999908\n"
          ]
        }
      ]
    },
    {
      "cell_type": "code",
      "source": [
        "plt.plot(total_reward_episode)"
      ],
      "metadata": {
        "colab": {
          "base_uri": "https://localhost:8080/",
          "height": 448
        },
        "id": "2JRS3it3ZFgs",
        "outputId": "dec0c8e5-c972-46c0-89f5-6d6cb4c7e03a"
      },
      "execution_count": null,
      "outputs": [
        {
          "output_type": "execute_result",
          "data": {
            "text/plain": [
              "[<matplotlib.lines.Line2D at 0x7f29bc3f2f80>]"
            ]
          },
          "metadata": {},
          "execution_count": 38
        },
        {
          "output_type": "display_data",
          "data": {
            "text/plain": [
              "<Figure size 640x480 with 1 Axes>"
            ],
            "image/png": "[encoded data removed]"
          },
          "metadata": {}
        }
      ]
    },
    {
      "cell_type": "code",
      "source": [
        "mean_reward = sum(total_reward_episode) / len(total_reward_episode)"
      ],
      "metadata": {
        "id": "MeO8TbMkcnLm"
      },
      "execution_count": null,
      "outputs": []
    },
    {
      "cell_type": "code",
      "source": [
        "mean_reward"
      ],
      "metadata": {
        "colab": {
          "base_uri": "https://localhost:8080/"
        },
        "id": "Ehh7M2g5ctTf",
        "outputId": "3745f917-6f77-4f4f-d9ad-a55f6c96174c"
      },
      "execution_count": null,
      "outputs": [
        {
          "output_type": "execute_result",
          "data": {
            "text/plain": [
              "4.719979999999934"
            ]
          },
          "metadata": {},
          "execution_count": 40
        }
      ]
    },
    {
      "cell_type": "code",
      "source": [
        "interval = stats.norm.interval(0.95, loc=mean_reward, scale=stats.tstd(total_reward_episode, axis=0))\n",
        "print(interval)"
      ],
      "metadata": {
        "colab": {
          "base_uri": "https://localhost:8080/"
        },
        "id": "XrTnBJ7vcm5F",
        "outputId": "e3547865-9db1-43dd-9cf3-b9c1d06069d4"
      },
      "execution_count": null,
      "outputs": [
        {
          "output_type": "stream",
          "name": "stdout",
          "text": [
            "(-2.4168612577658255, 11.856821257765693)\n"
          ]
        }
      ]
    }
  ]
}