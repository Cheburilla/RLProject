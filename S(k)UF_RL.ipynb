{
  "cells": [
    {
      "cell_type": "code",
      "execution_count": null,
      "metadata": {
        "colab": {
          "base_uri": "https://localhost:8080/"
        },
        "id": "7_TojAZG9_LN",
        "outputId": "5badad22-31e0-420b-ef8a-07ca70f6b8c3"
      },
      "outputs": [
        {
          "name": "stderr",
          "output_type": "stream",
          "text": [
            "/usr/local/lib/python3.10/dist-packages/ipykernel/ipkernel.py:283: DeprecationWarning: `should_run_async` will not call `transform_cell` automatically in the future. Please pass the result to `transformed_cell` argument and any exception that happen during thetransform in `preprocessing_exc_tuple` in IPython 7.17 and above.\n",
            "  and should_run_async(code)\n"
          ]
        },
        {
          "name": "stdout",
          "output_type": "stream",
          "text": [
            "Requirement already satisfied: gymnasium in /usr/local/lib/python3.10/dist-packages (0.29.1)\n",
            "Requirement already satisfied: numpy>=1.21.0 in /usr/local/lib/python3.10/dist-packages (from gymnasium) (1.25.2)\n",
            "Requirement already satisfied: cloudpickle>=1.2.0 in /usr/local/lib/python3.10/dist-packages (from gymnasium) (2.2.1)\n",
            "Requirement already satisfied: typing-extensions>=4.3.0 in /usr/local/lib/python3.10/dist-packages (from gymnasium) (4.11.0)\n",
            "Requirement already satisfied: farama-notifications>=0.0.1 in /usr/local/lib/python3.10/dist-packages (from gymnasium) (0.0.4)\n"
          ]
        }
      ],
      "source": [
        "#!pip install gymnasium\n",
        "#!pip install gymnasium[atari]\n",
        "#!pip install gymnasium[accept-rom-license]\n",
        "#!pip install --upgrade gym ale-py"
      ]
    },
    {
      "cell_type": "code",
      "execution_count": 2,
      "metadata": {
        "id": "esIVRf3X-Kp_"
      },
      "outputs": [],
      "source": [
        "import gymnasium\n",
        "import torch\n",
        "import numpy as np\n",
        "from torch.autograd import Variable\n",
        "import matplotlib.pyplot as plt\n",
        "from scipy import stats"
      ]
    },
    {
      "cell_type": "code",
      "execution_count": 3,
      "metadata": {
        "id": "lpndbwwmAJIn"
      },
      "outputs": [],
      "source": [
        "env = gymnasium.make(\"ALE/Tetris-ram-v5\")"
      ]
    },
    {
      "cell_type": "code",
      "execution_count": null,
      "metadata": {
        "colab": {
          "base_uri": "https://localhost:8080/"
        },
        "id": "v6nMaA2z_NRI",
        "outputId": "cb0dd7b1-867b-41b0-f7c2-e9eb32ee76a1"
      },
      "outputs": [
        {
          "data": {
            "text/plain": [
              "128"
            ]
          },
          "execution_count": 20,
          "metadata": {},
          "output_type": "execute_result"
        }
      ],
      "source": [
        "env.observation_space.shape[0]"
      ]
    },
    {
      "cell_type": "code",
      "execution_count": 4,
      "metadata": {
        "id": "y1YmQ9V4IuFd"
      },
      "outputs": [],
      "source": [
        "def gen_epsilon_greedy_policy(estimator, epsilon, n_action):\n",
        "    def policy_function(state):\n",
        "            probs = torch.ones(n_action) * epsilon / n_action\n",
        "            q_values = estimator.predict(state)\n",
        "            best_action = torch.argmax(q_values).item()\n",
        "            probs[best_action] += 1.0 - epsilon\n",
        "            action = torch.multinomial(probs, 1).item()\n",
        "            return action\n",
        "    return policy_function"
      ]
    },
    {
      "cell_type": "code",
      "execution_count": 8,
      "metadata": {
        "id": "HSj3M_DMJbyI"
      },
      "outputs": [],
      "source": [
        "class LR_Estimate():\n",
        "    def __init__(self, n_feat, n_state, n_action, lr=0.05):#n_state - размерность состояний теперь\n",
        "        self.w, self.b = self.get_gaussian_wb(n_feat,n_state)\n",
        "        self.n_feat = n_feat\n",
        "        self.models = []\n",
        "        self.optimizers = []\n",
        "        self.criterion = torch.nn.MSELoss()\n",
        "        for _ in range(n_action):\n",
        "            model = torch.nn.Linear(n_feat,1)\n",
        "            self.models.append(model)\n",
        "            optimizer = torch.optim.SGD(model.parameters(), lr)\n",
        "            self.optimizers.append(optimizer)\n",
        "\n",
        "    def get_gaussian_wb(self, n_feat, n_state, sigma=.2):\n",
        "        torch.manual_seed(0)\n",
        "        w = torch.randn((n_state,n_feat))/sigma\n",
        "        b = torch.rand((n_feat))* 2.0 * np.pi\n",
        "        return w, b\n",
        "\n",
        "    def get_feature(self, s):\n",
        "        features = (2.0 / self.n_feat) ** 0.5 * torch.cos(torch.matmul(torch.Tensor(s).float(), self.w) + self.b)\n",
        "\n",
        "        return features\n",
        "\n",
        "    def update(self, s, a, y):\n",
        "        features = Variable(self.get_feature(s))\n",
        "        y_pred = self.models[a](features)\n",
        "\n",
        "        loss = self.criterion(y_pred, Variable(torch.Tensor([y])))\n",
        "\n",
        "        self.optimizers[a].zero_grad()\n",
        "        loss.backward()\n",
        "        self.optimizers[a].step()\n",
        "\n",
        "    def predict(self,s):\n",
        "        features = self.get_feature(s)\n",
        "        # print(features)\n",
        "        with torch.no_grad():\n",
        "            m = [model(features) for model in self.models]\n",
        "            b = torch.Tensor(len(m), len(m[0]))\n",
        "\n",
        "            torch.cat(m, out=b)\n",
        "            return b"
      ]
    },
    {
      "cell_type": "code",
      "execution_count": null,
      "metadata": {
        "id": "x0oQsIyHK3Or"
      },
      "outputs": [],
      "source": [
        "estimator = LR_Estimate(10, env.observation_space.shape[0], env.action_space.n)\n",
        "policy = gen_epsilon_greedy_policy(estimator, 0.1, env.action_space.n)"
      ]
    },
    {
      "cell_type": "code",
      "execution_count": null,
      "metadata": {
        "colab": {
          "base_uri": "https://localhost:8080/"
        },
        "id": "WPUmo_0RKZv_",
        "outputId": "2108ea47-7ead-4ba9-ff00-e6c67fb3b1e5"
      },
      "outputs": [
        {
          "name": "stderr",
          "output_type": "stream",
          "text": [
            "<ipython-input-22-e22f447b083a>:42: UserWarning: An output with one or more elements was resized since it had shape [5, 1], which does not match the required output shape [5]. This behavior is deprecated, and in a future PyTorch release outputs will not be resized unless they have zero elements. You can explicitly reuse an out tensor t by resizing it, inplace, to zero elements with t.resize_(0). (Triggered internally at ../aten/src/ATen/native/Resize.cpp:28.)\n",
            "  torch.cat(m, out=b)\n"
          ]
        }
      ],
      "source": [
        "rewards = np.zeros(30)\n",
        "for traj_num in range(30):\n",
        "    state = env.reset()[0]\n",
        "    is_done = False\n",
        "    while not is_done:\n",
        "      action = policy(state)\n",
        "      new_state, reward, is_done, __,  info = env.step(action)\n",
        "      state = new_state\n",
        "      rewards[traj_num] += reward\n",
        "      rewards[traj_num] += 0.01"
      ]
    },
    {
      "cell_type": "code",
      "execution_count": null,
      "metadata": {
        "colab": {
          "base_uri": "https://localhost:8080/"
        },
        "id": "bdnh4guGLAAv",
        "outputId": "221161e7-6c92-46c8-e9fd-fb882f50574c"
      },
      "outputs": [
        {
          "data": {
            "text/plain": [
              "array([5.05, 3.97, 4.88, 3.89, 4.61, 4.01, 3.85, 3.79, 3.73, 4.13, 4.13,\n",
              "       4.33, 5.05, 3.85, 3.85, 3.53, 3.89, 6.17, 3.89, 4.73, 4.33, 4.41,\n",
              "       4.01, 3.89, 4.13, 3.87, 3.93, 5.77, 4.01, 4.49])"
            ]
          },
          "execution_count": 39,
          "metadata": {},
          "output_type": "execute_result"
        }
      ],
      "source": [
        "rewards"
      ]
    },
    {
      "cell_type": "code",
      "execution_count": null,
      "metadata": {
        "id": "GjQVEB47Pnjg"
      },
      "outputs": [],
      "source": [
        "mean_reward = sum(rewards) / len(rewards)"
      ]
    },
    {
      "cell_type": "code",
      "execution_count": null,
      "metadata": {
        "colab": {
          "base_uri": "https://localhost:8080/"
        },
        "id": "-Uyt9KMbPucw",
        "outputId": "5f690f0f-70a0-474f-dd42-8541777c62f6"
      },
      "outputs": [
        {
          "data": {
            "text/plain": [
              "4.272333333333287"
            ]
          },
          "execution_count": 42,
          "metadata": {},
          "output_type": "execute_result"
        }
      ],
      "source": [
        "mean_reward"
      ]
    },
    {
      "cell_type": "code",
      "execution_count": null,
      "metadata": {
        "colab": {
          "base_uri": "https://localhost:8080/"
        },
        "id": "nqcoiYczP09U",
        "outputId": "f3dea3d5-45d8-4e20-f9d1-9bd78ef23f15"
      },
      "outputs": [
        {
          "name": "stdout",
          "output_type": "stream",
          "text": [
            "(3.0843223594152898, 5.460344307251284)\n"
          ]
        }
      ],
      "source": [
        "interval = stats.norm.interval(0.95, loc=mean_reward, scale=stats.tstd(rewards, axis=0))\n",
        "print(interval)"
      ]
    },
    {
      "cell_type": "code",
      "execution_count": null,
      "metadata": {},
      "outputs": [],
      "source": [
        "n_episode = 500\n",
        "total_reward_episode = [0] * n_episode"
      ]
    },
    {
      "cell_type": "code",
      "execution_count": 10,
      "metadata": {
        "id": "QxpkvdFZQHen"
      },
      "outputs": [],
      "source": [
        "def q_learning(env, estimator, n_episode, epsilon, n_action, gamma=1.0, epsilon_decay=0.99):\n",
        "    for episode in range(n_episode):\n",
        "        policy = gen_epsilon_greedy_policy(estimator, epsilon * epsilon_decay ** episode, n_action)\n",
        "        state = env.reset()[0]\n",
        "        is_done = False\n",
        "        while not is_done:\n",
        "            action = policy(state)\n",
        "            new_state, reward, is_done, __,  info = env.step(action)\n",
        "            q_values_next = estimator.predict(new_state)\n",
        "            if reward == 0:\n",
        "              reward = 0.01\n",
        "            else:\n",
        "              reward = 100\n",
        "            td_target = reward + gamma * torch.max(q_values_next)\n",
        "            estimator.update(state, action, td_target)\n",
        "            total_reward_episode[episode] += reward\n",
        "        state = new_state"
      ]
    },
    {
      "cell_type": "code",
      "execution_count": null,
      "metadata": {
        "colab": {
          "base_uri": "https://localhost:8080/"
        },
        "id": "_hBBscsTQJsj",
        "outputId": "7ecee3fb-3c96-4e90-f1e3-b4b1265f503c"
      },
      "outputs": [
        {
          "name": "stderr",
          "output_type": "stream",
          "text": [
            "<ipython-input-22-e22f447b083a>:42: UserWarning: An output with one or more elements was resized since it had shape [5, 1], which does not match the required output shape [5]. This behavior is deprecated, and in a future PyTorch release outputs will not be resized unless they have zero elements. You can explicitly reuse an out tensor t by resizing it, inplace, to zero elements with t.resize_(0). (Triggered internally at ../aten/src/ATen/native/Resize.cpp:28.)\n",
            "  torch.cat(m, out=b)\n"
          ]
        }
      ],
      "source": [
        "n_state = env.observation_space.shape[0]\n",
        "n_action = env.action_space.n\n",
        "n_feature = 100\n",
        "lr = 0.03\n",
        "estimator = LR_Estimate(n_feature, n_state, n_action, lr)\n",
        "\n",
        "q_learning(env, estimator, n_episode, 0.1, n_action)"
      ]
    },
    {
      "cell_type": "code",
      "execution_count": null,
      "metadata": {
        "colab": {
          "base_uri": "https://localhost:8080/"
        },
        "id": "u2DhYcATR3c9",
        "outputId": "e5462948-5bbd-410c-95d8-3de5cf2dd5e7"
      },
      "outputs": [
        {
          "data": {
            "image/png": "[encoded data removed]",
            "text/plain": [
              "<Figure size 640x480 with 1 Axes>"
            ]
          },
          "metadata": {},
          "output_type": "display_data"
        }
      ],
      "source": [
        "plt.plot(total_reward_episode, 'b.')\n",
        "plt.title('Зависимость вознаграждения в эпизоде от времени')\n",
        "plt.xlabel('Эпизод')\n",
        "plt.ylabel('Полное вознаграждение')\n",
        "plt.show()"
      ]
    },
    {
      "cell_type": "markdown",
      "metadata": {},
      "source": [
        "Second experiment"
      ]
    },
    {
      "cell_type": "code",
      "execution_count": 9,
      "metadata": {},
      "outputs": [],
      "source": [
        "n_episode = 2000\n",
        "total_reward_episode = [0] * n_episode"
      ]
    },
    {
      "cell_type": "code",
      "execution_count": 11,
      "metadata": {},
      "outputs": [
        {
          "name": "stderr",
          "output_type": "stream",
          "text": [
            "C:\\Users\\Aron\\AppData\\Local\\Temp\\ipykernel_21592\\1578489185.py:42: UserWarning: An output with one or more elements was resized since it had shape [5, 1], which does not match the required output shape [5]. This behavior is deprecated, and in a future PyTorch release outputs will not be resized unless they have zero elements. You can explicitly reuse an out tensor t by resizing it, inplace, to zero elements with t.resize_(0). (Triggered internally at ..\\aten\\src\\ATen\\native\\Resize.cpp:35.)\n",
            "  torch.cat(m, out=b)\n"
          ]
        }
      ],
      "source": [
        "n_state = env.observation_space.shape[0]\n",
        "n_action = env.action_space.n\n",
        "n_feature = 100\n",
        "lr = 0.03\n",
        "estimator = LR_Estimate(n_feature, n_state, n_action, lr)\n",
        "\n",
        "q_learning(env, estimator, n_episode, 0.1, n_action)"
      ]
    },
    {
      "cell_type": "code",
      "execution_count": 12,
      "metadata": {},
      "outputs": [
        {
          "data": {
            "image/png": "[encoded data removed]",
            "text/plain": [
              "<Figure size 640x480 with 1 Axes>"
            ]
          },
          "metadata": {},
          "output_type": "display_data"
        }
      ],
      "source": [
        "plt.plot(total_reward_episode, 'b.')\n",
        "plt.title('Зависимость вознаграждения в эпизоде от времени')\n",
        "plt.xlabel('Эпизод')\n",
        "plt.ylabel('Полное вознаграждение')\n",
        "plt.show()"
      ]
    },
    {
      "cell_type": "code",
      "execution_count": 14,
      "metadata": {},
      "outputs": [],
      "source": [
        "mean_reward2 = sum(total_reward_episode) / len(total_reward_episode)\n",
        "interval2 = stats.norm.interval(0.95, loc=mean_reward2, scale=stats.tstd(total_reward_episode, axis=0))"
      ]
    },
    {
      "cell_type": "code",
      "execution_count": 15,
      "metadata": {},
      "outputs": [
        {
          "name": "stdout",
          "output_type": "stream",
          "text": [
            "4.814170000000177\n",
            "(-0.27846430731094607, 9.9068043073113)\n"
          ]
        }
      ],
      "source": [
        "print(mean_reward2)\n",
        "print(interval2)"
      ]
    }
  ],
  "metadata": {
    "colab": {
      "provenance": []
    },
    "kernelspec": {
      "display_name": "Python 3",
      "name": "python3"
    },
    "language_info": {
      "codemirror_mode": {
        "name": "ipython",
        "version": 3
      },
      "file_extension": ".py",
      "mimetype": "text/x-python",
      "name": "python",
      "nbconvert_exporter": "python",
      "pygments_lexer": "ipython3",
      "version": "3.10.4"
    }
  },
  "nbformat": 4,
  "nbformat_minor": 0
}
